{
 "cells": [
  {
   "cell_type": "code",
   "execution_count": 1,
   "id": "d94d43b5-0bb4-456a-bb5c-e8a14cc7dbab",
   "metadata": {
    "scrolled": true,
    "tags": []
   },
   "outputs": [],
   "source": [
    "import pandas as pd\n",
    "import numpy as np\n",
    "from sklearn.decomposition import PCA\n",
    "from sklearn.feature_extraction.text import CountVectorizer\n",
    "from umap import UMAP\n",
    "from sentence_transformers import SentenceTransformer\n",
    "from bertopic import BERTopic\n",
    "from nltk.corpus import stopwords\n",
    "import pyarrow.parquet as pq\n",
    "import pyarrow as pa\n",
    "from tabulate import tabulate\n",
    "from hdbscan import HDBSCAN\n",
    "from bertopic.representation import KeyBERTInspired\n",
    "from sklearn.manifold import TSNE\n"
   ]
  },
  {
   "cell_type": "code",
   "execution_count": 2,
   "id": "b11e1a11",
   "metadata": {},
   "outputs": [
    {
     "data": {
      "application/vnd.jupyter.widget-view+json": {
       "model_id": "9ab2bdd20fd44d0698019e83437131c6",
       "version_major": 2,
       "version_minor": 0
      },
      "text/plain": [
       "config_sentence_transformers.json:   0%|          | 0.00/205 [00:00<?, ?B/s]"
      ]
     },
     "metadata": {},
     "output_type": "display_data"
    },
    {
     "name": "stderr",
     "output_type": "stream",
     "text": [
      "You try to use a model that was created with version 3.3.1, however, your version is 3.1.1. This might cause unexpected behavior or errors. In that case, try to update to the latest version.\n",
      "\n",
      "\n",
      "\n"
     ]
    },
    {
     "data": {
      "application/vnd.jupyter.widget-view+json": {
       "model_id": "f1dfd755e5804521a3ca2ad94db80680",
       "version_major": 2,
       "version_minor": 0
      },
      "text/plain": [
       "README.md:   0%|          | 0.00/113k [00:00<?, ?B/s]"
      ]
     },
     "metadata": {},
     "output_type": "display_data"
    },
    {
     "data": {
      "application/vnd.jupyter.widget-view+json": {
       "model_id": "5addbb6ad6a04b89939fba28c80e3920",
       "version_major": 2,
       "version_minor": 0
      },
      "text/plain": [
       "config.json:   0%|          | 0.00/617 [00:00<?, ?B/s]"
      ]
     },
     "metadata": {},
     "output_type": "display_data"
    },
    {
     "data": {
      "application/vnd.jupyter.widget-view+json": {
       "model_id": "47466e8c7fb648339606ba47155ce1fe",
       "version_major": 2,
       "version_minor": 0
      },
      "text/plain": [
       "model.safetensors:   0%|          | 0.00/90.9M [00:00<?, ?B/s]"
      ]
     },
     "metadata": {},
     "output_type": "display_data"
    },
    {
     "data": {
      "application/vnd.jupyter.widget-view+json": {
       "model_id": "0bd17da7ac2540eebf9966a83e0bb5b4",
       "version_major": 2,
       "version_minor": 0
      },
      "text/plain": [
       "tokenizer_config.json:   0%|          | 0.00/1.21k [00:00<?, ?B/s]"
      ]
     },
     "metadata": {},
     "output_type": "display_data"
    },
    {
     "data": {
      "application/vnd.jupyter.widget-view+json": {
       "model_id": "bc975c52259c4d6584a27775fcc04969",
       "version_major": 2,
       "version_minor": 0
      },
      "text/plain": [
       "tokenizer.json:   0%|          | 0.00/2.00M [00:00<?, ?B/s]"
      ]
     },
     "metadata": {},
     "output_type": "display_data"
    },
    {
     "data": {
      "application/vnd.jupyter.widget-view+json": {
       "model_id": "0e864f4b246d44e58d991149b7d0dbe8",
       "version_major": 2,
       "version_minor": 0
      },
      "text/plain": [
       "special_tokens_map.json:   0%|          | 0.00/964 [00:00<?, ?B/s]"
      ]
     },
     "metadata": {},
     "output_type": "display_data"
    }
   ],
   "source": [
    "sentence_model = SentenceTransformer(\"jvanhoof/all-MiniLM-L6-multilingual-v2-en-es-pt-pt-br\")"
   ]
  },
  {
   "cell_type": "code",
   "execution_count": 4,
   "id": "60d7fe95",
   "metadata": {},
   "outputs": [
    {
     "name": "stderr",
     "output_type": "stream",
     "text": [
      "2025-06-05 13:35:26,459 - BERTopic - WARNING: You are loading a BERTopic model without explicitly defining an embedding model.If you want to also load in an embedding model, make sure to useBERTopic.load(my_model, embedding_model=my_embedding_model).\n"
     ]
    }
   ],
   "source": [
    "restored_model = BERTopic.load('../../job_outputs/merged_model_update',embedding_model=sentence_model)"
   ]
  },
  {
   "cell_type": "code",
   "execution_count": 5,
   "id": "ce0d6761",
   "metadata": {},
   "outputs": [],
   "source": [
    "pca_model = PCA(\n",
    "                n_components= 10\n",
    "            )"
   ]
  },
  {
   "cell_type": "code",
   "execution_count": 6,
   "id": "f4d0865c",
   "metadata": {},
   "outputs": [],
   "source": [
    "umap_model = UMAP(\n",
    "                n_neighbors=10,\n",
    "                n_components=2,\n",
    "                min_dist=0.01,\n",
    "                metric=\"cosine\",\n",
    "                random_state=1234,\n",
    "                low_memory=True\n",
    "            )"
   ]
  },
  {
   "cell_type": "code",
   "execution_count": 7,
   "id": "67554242",
   "metadata": {},
   "outputs": [],
   "source": [
    "tsne_model = TSNE(\n",
    "                n_components=2,\n",
    "                metric=\"cosine\",\n",
    "                random_state=1234\n",
    "            )"
   ]
  },
  {
   "cell_type": "code",
   "execution_count": 8,
   "id": "cb9a645c",
   "metadata": {},
   "outputs": [],
   "source": [
    "model_embeddings = restored_model.topic_embeddings_"
   ]
  },
  {
   "cell_type": "code",
   "execution_count": 9,
   "id": "55b9a846",
   "metadata": {},
   "outputs": [],
   "source": [
    "pca = pca_model.fit_transform(model_embeddings)"
   ]
  },
  {
   "cell_type": "code",
   "execution_count": 10,
   "id": "cd109524",
   "metadata": {},
   "outputs": [],
   "source": [
    "coordinates = umap_model.fit_transform(pca)"
   ]
  },
  {
   "cell_type": "code",
   "execution_count": 11,
   "id": "d20235e2",
   "metadata": {},
   "outputs": [],
   "source": [
    "df = pd.DataFrame(coordinates, columns=['x', 'y'])"
   ]
  },
  {
   "cell_type": "code",
   "execution_count": 12,
   "id": "eea6b256",
   "metadata": {},
   "outputs": [],
   "source": [
    "df.to_csv('../../job_outputs/merged_model_update/coordinates.csv', index=False)"
   ]
  },
  {
   "cell_type": "code",
   "execution_count": 13,
   "id": "8c9d1adc",
   "metadata": {},
   "outputs": [],
   "source": [
    "coordinates2 = tsne_model.fit_transform(pca)"
   ]
  },
  {
   "cell_type": "code",
   "execution_count": 14,
   "id": "6707d964",
   "metadata": {},
   "outputs": [],
   "source": [
    "df2 = pd.DataFrame(coordinates2, columns=['x', 'y'])"
   ]
  },
  {
   "cell_type": "code",
   "execution_count": 15,
   "id": "543caf0f",
   "metadata": {},
   "outputs": [],
   "source": [
    "df2.to_csv('../../job_outputs/merged_model_update/coordinates_tsne.csv', index=False)"
   ]
  },
  {
   "cell_type": "code",
   "execution_count": 18,
   "id": "a767c228",
   "metadata": {},
   "outputs": [
    {
     "data": {
      "text/plain": [
       "<Axes: xlabel='x', ylabel='y'>"
      ]
     },
     "execution_count": 18,
     "metadata": {},
     "output_type": "execute_result"
    },
    {
     "data": {
      "image/png": "[encoded data removed]",
      "text/plain": [
       "<Figure size 640x480 with 1 Axes>"
      ]
     },
     "metadata": {},
     "output_type": "display_data"
    }
   ],
   "source": [
    "df2.plot(x='x', y='y', kind='scatter')"
   ]
  }
 ],
 "metadata": {
  "kernelspec": {
   "display_name": "base",
   "language": "python",
   "name": "python3"
  },
  "language_info": {
   "codemirror_mode": {
    "name": "ipython",
    "version": 3
   },
   "file_extension": ".py",
   "mimetype": "text/x-python",
   "name": "python",
   "nbconvert_exporter": "python",
   "pygments_lexer": "ipython3",
   "version": "3.11.5"
  }
 },
 "nbformat": 4,
 "nbformat_minor": 5
}
