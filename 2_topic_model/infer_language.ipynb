{
 "cells": [
  {
   "cell_type": "code",
   "execution_count": 1,
   "id": "d94d43b5-0bb4-456a-bb5c-e8a14cc7dbab",
   "metadata": {
    "scrolled": true,
    "tags": []
   },
   "outputs": [],
   "source": [
    "import pandas as pd\n",
    "import numpy as np\n",
    "import pyarrow.parquet as pq\n",
    "import pyarrow as pa\n",
    "import langid as lid"
   ]
  },
  {
   "cell_type": "code",
   "execution_count": 2,
   "id": "d2469171",
   "metadata": {},
   "outputs": [],
   "source": [
    "df = pd.read_parquet(\"../../data_update_2025/update_text_table.parquet\")"
   ]
  },
  {
   "cell_type": "code",
   "execution_count": 3,
   "id": "31f361fd",
   "metadata": {},
   "outputs": [
    {
     "data": {
      "text/plain": [
       "array(['Complicações da ventilação mecânica decorrentes da intubação prolongada relato de caso',\n",
       "       'Selecting Neuropsychological Tests for Use In Multiple Sclerosis and Temporal Lobe Epilepsy Relevance of Effect Size Estimations',\n",
       "       'Sustentabilidade na Gastronomia', ...,\n",
       "       'SONHOS TRANS BORDADOS PESQUISA FEITURA E REVERBERAÇÕES',\n",
       "       'Strategies of health production at work and facing violence',\n",
       "       'Polypropylene nanogel Myth or Reality'], dtype=object)"
      ]
     },
     "execution_count": 3,
     "metadata": {},
     "output_type": "execute_result"
    }
   ],
   "source": [
    "df.Titulo.values"
   ]
  },
  {
   "cell_type": "code",
   "execution_count": 4,
   "id": "3eef3fc0",
   "metadata": {},
   "outputs": [],
   "source": [
    "lang, conf = lid.classify(df.Titulo.values[0])"
   ]
  },
  {
   "cell_type": "code",
   "execution_count": 5,
   "id": "33f9177e",
   "metadata": {},
   "outputs": [],
   "source": [
    "languages = []\n",
    "confidences = []\n",
    "\n",
    "for title in df.Titulo.values:\n",
    "    lang, conf = lid.classify(title)\n",
    "    languages.append(lang)\n",
    "    confidences.append(conf)\n",
    "\n",
    "df['Language'] = languages\n",
    "df['Confidence'] = confidences"
   ]
  },
  {
   "cell_type": "code",
   "execution_count": 7,
   "id": "d72e87c2",
   "metadata": {},
   "outputs": [],
   "source": [
    "df.to_parquet(\"../../data_update_2025/update_language_inferences.parquet\")"
   ]
  }
 ],
 "metadata": {
  "kernelspec": {
   "display_name": "base",
   "language": "python",
   "name": "python3"
  },
  "language_info": {
   "codemirror_mode": {
    "name": "ipython",
    "version": 3
   },
   "file_extension": ".py",
   "mimetype": "text/x-python",
   "name": "python",
   "nbconvert_exporter": "python",
   "pygments_lexer": "ipython3",
   "version": "3.11.5"
  }
 },
 "nbformat": 4,
 "nbformat_minor": 5
}
